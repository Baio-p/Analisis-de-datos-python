{
 "cells": [
  {
   "cell_type": "markdown",
   "metadata": {},
   "source": [
    "# Hola mundo\n",
    "\n",
    "Con salto de linea predeterminado"
   ]
  },
  {
   "cell_type": "code",
   "execution_count": 1,
   "metadata": {},
   "outputs": [
    {
     "name": "stdout",
     "output_type": "stream",
     "text": [
      "H\n",
      "o\n",
      "l\n",
      "a\n",
      " \n",
      "m\n",
      "u\n",
      "n\n",
      "d\n",
      "o\n"
     ]
    }
   ],
   "source": [
    "print(\"H\")\n",
    "print(\"o\")\n",
    "print(\"l\")\n",
    "print(\"a\")\n",
    "print(\" \")\n",
    "print(\"m\")\n",
    "print(\"u\")\n",
    "print(\"n\")\n",
    "print(\"d\")\n",
    "print(\"o\")"
   ]
  },
  {
   "cell_type": "markdown",
   "metadata": {},
   "source": [
    "Eliminando el salto de linea predeterminado"
   ]
  },
  {
   "cell_type": "code",
   "execution_count": 2,
   "metadata": {},
   "outputs": [
    {
     "name": "stdout",
     "output_type": "stream",
     "text": [
      "Hola mundo"
     ]
    }
   ],
   "source": [
    "print(\"H\",end=\"\")\n",
    "print(\"o\",end=\"\")\n",
    "print(\"l\",end=\"\")\n",
    "print(\"a\",end=\"\")\n",
    "print(\" \",end=\"\")\n",
    "print(\"m\",end=\"\")\n",
    "print(\"u\",end=\"\")\n",
    "print(\"n\",end=\"\")\n",
    "print(\"d\",end=\"\")\n",
    "print(\"o\",end=\"\")"
   ]
  }
 ],
 "metadata": {
  "kernelspec": {
   "display_name": "Python 3.10.5 64-bit",
   "language": "python",
   "name": "python3"
  },
  "language_info": {
   "codemirror_mode": {
    "name": "ipython",
    "version": 3
   },
   "file_extension": ".py",
   "mimetype": "text/x-python",
   "name": "python",
   "nbconvert_exporter": "python",
   "pygments_lexer": "ipython3",
   "version": "3.10.5"
  },
  "orig_nbformat": 4,
  "vscode": {
   "interpreter": {
    "hash": "77abe205c72c096294b3a4a26264acecc5dbf8fb16ba6ed375b92e4d65784221"
   }
  }
 },
 "nbformat": 4,
 "nbformat_minor": 2
}
