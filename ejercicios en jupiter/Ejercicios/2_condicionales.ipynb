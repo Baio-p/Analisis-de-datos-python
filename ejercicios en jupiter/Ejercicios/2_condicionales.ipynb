{
 "cells": [
  {
   "cell_type": "markdown",
   "metadata": {},
   "source": [
    "# Ejercicios: Estructura condicional"
   ]
  },
  {
   "cell_type": "markdown",
   "metadata": {},
   "source": [
    "### Ejercicio 1\n",
    "Escribir un programa que pregunte al usuario su edad y muestre por pantalla si es mayor de edad o no."
   ]
  },
  {
   "cell_type": "code",
   "execution_count": 9,
   "metadata": {},
   "outputs": [
    {
     "name": "stdout",
     "output_type": "stream",
     "text": [
      "eres mayor de edad\n"
     ]
    }
   ],
   "source": [
    "# Solución\n",
    "edad = int ( input (\"cuantos años tienes ?\"))\n",
    "if (edad >= 18):\n",
    "    print (\"eres mayor de edad\")\n",
    "else:\n",
    "    print (\"eres menor de edad\")"
   ]
  },
  {
   "cell_type": "markdown",
   "metadata": {},
   "source": [
    "### Ejercicio 2\n",
    "Escribir un programa que almacene una <span style=\"color:#66D9EF\">contraseña</span> en una variable, pregunte al usuario por la <span style=\"color:#66D9EF\">contraseña</span> e imprima por pantalla si la <span style=\"color:#66D9EF\">contraseña</span> introducida por el usuario coincide con la guardada en la variable sin tener en cuenta mayúsculas y minúsculas."
   ]
  },
  {
   "cell_type": "code",
   "execution_count": 39,
   "metadata": {},
   "outputs": [
    {
     "name": "stdout",
     "output_type": "stream",
     "text": [
      "la contraseña es correcta\n"
     ]
    }
   ],
   "source": [
    "# Solución\n",
    "contrasenia = \"passw0rd\"\n",
    "passUser = input (\"ingresa la contraseña\")\n",
    "if (passUser.lower() == contrasenia.lower()):\n",
    "    print (\"la contraseña es correcta\")\n",
    "else:\n",
    "    print (\"la contraseña es incorrecta\")"
   ]
  },
  {
   "cell_type": "markdown",
   "metadata": {},
   "source": [
    "### Ejercicio 3\n",
    "Escribir un programa que pida al usuario dos números y muestre por pantalla su división. Si el divisor es cero el programa debe mostrar un error."
   ]
  },
  {
   "cell_type": "code",
   "execution_count": 19,
   "metadata": {},
   "outputs": [
    {
     "name": "stdout",
     "output_type": "stream",
     "text": [
      "el resultado es 0.8333333333333334\n",
      "error\n"
     ]
    }
   ],
   "source": [
    "# Solución\n",
    "dividendo = float( input (\"que numeros quieres dividir ?\"))\n",
    "divisor = float( input (\"entre que numero lo quieres dividir\"))\n",
    "if (divisor != 0):\n",
    "    print (f\"el resultado es {dividendo/divisor}\")\n",
    "else:\n",
    "    print (\"error\")"
   ]
  },
  {
   "cell_type": "markdown",
   "metadata": {},
   "source": [
    "### Ejercicio 4\n",
    "Escribir un programa que pida al usuario un número entero y muestre por pantalla si es par o impar."
   ]
  },
  {
   "cell_type": "code",
   "execution_count": 18,
   "metadata": {},
   "outputs": [
    {
     "name": "stdout",
     "output_type": "stream",
     "text": [
      "tu numero es impar\n"
     ]
    }
   ],
   "source": [
    "# Solución\n",
    "numEnt = int (input (\"ingresa un numero entero\"))\n",
    "if (numEnt % 2 == 0):\n",
    "    print (\"tu numero es par\")\n",
    "else:\n",
    "    print (\"tu numero es impar\")\n"
   ]
  },
  {
   "cell_type": "markdown",
   "metadata": {},
   "source": [
    "### Ejercicio 5\n",
    "Para pagar un determinado impuesto se debe ser mayor de 16 años y tener unos ingresos iguales o superiores a $5000 mensuales. Escribir un programa que pregunte al usuario su edad y sus ingresos mensuales y muestre por pantalla si el usuario tiene que pagar o no."
   ]
  },
  {
   "cell_type": "code",
   "execution_count": 29,
   "metadata": {},
   "outputs": [
    {
     "name": "stdout",
     "output_type": "stream",
     "text": [
      "puedes pagar el el impuesto\n"
     ]
    }
   ],
   "source": [
    "# Solución\n",
    "edad = int  ( input (\"ingresa tu edad\"))\n",
    "if (edad > 16):\n",
    "    salMen = float (input (\"cuanto es tu ingreso mensual ?\"))\n",
    "    if (salMen > 5000):\n",
    "        print (\"puedes pagar el impuesto\")\n",
    "else:\n",
    "    print (\"no puedes pagar impuestos\")"
   ]
  },
  {
   "cell_type": "markdown",
   "metadata": {},
   "source": [
    "### Ejercicio 6\n",
    "Los alumnos de un curso se han dividido en dos grupos A y B de acuerdo al sexo y el nombre. El grupo A esta formado por las mujeres con un nombre anterior a la M y los hombres con un nombre posterior a la N y el grupo B por el resto. Escribir un programa que pregunte al usuario su nombre y sexo, y muestre por pantalla el grupo que le corresponde."
   ]
  },
  {
   "cell_type": "code",
   "execution_count": 42,
   "metadata": {},
   "outputs": [
    {
     "name": "stdout",
     "output_type": "stream",
     "text": [
      "eres del grupo B\n"
     ]
    }
   ],
   "source": [
    "# Solución\n",
    "nombre = input (\"ingresa tu nombre\")\n",
    "genero = input (\"eres 'H' o 'M' \")\n",
    "if ((genero.upper() == 'M' and nombre.upper[0] < 'M') or (genero.upper == 'H' and nombre.upper[0] < 'M')):\n",
    "    print (\"eres del grupo A\")\n",
    "else:\n",
    "    print (\"eres del grupo B\")\n",
    "    "
   ]
  },
  {
   "cell_type": "markdown",
   "metadata": {},
   "source": [
    "### Ejercicio 7\n",
    "En una determinada empresa, sus empleados son evaluados al final de cada año. Los puntos que pueden obtener en la evaluación comienzan en 0.0 y pueden ir aumentando, traduciéndose en mejores beneficios. Los puntos que pueden conseguir los empleados pueden ser 0.0, 0.4, 0.6 o más, pero no valores intermedios entre las cifras mencionadas. A continuación se muestra una tabla con los niveles correspondientes a cada puntuación. La cantidad de dinero conseguida en cada nivel es de $2,400 multiplicada por la puntuación del nivel.\n",
    "<center>\n",
    "\n",
    "|Nivel|Puntuación|\n",
    "|:-:|:-:|\n",
    "|Inaceptable|0.0|\n",
    "|Aceptable|0.4|\n",
    "|Meritorio|0.6 o más|\n",
    "\n",
    "Escribir un programa que lea la puntuación del usuario e indique su nivel de rendimiento, así como la cantidad de dinero que recibirá el usuario.\n",
    "\n",
    "\n"
   ]
  },
  {
   "cell_type": "code",
   "execution_count": 49,
   "metadata": {},
   "outputs": [
    {
     "name": "stdout",
     "output_type": "stream",
     "text": [
      "Nivel incorrecto\n"
     ]
    }
   ],
   "source": [
    "# Solución\n",
    "nivel = float (input (\"Cual fue tu nivel obtenido ? \\n 0.0 ? \\n 0.4 ? \\n 0.6 o mas ?\"))\n",
    "cantidadObtenida = nivel * 2400\n",
    "if (nivel == 0.0):\n",
    "    print (\"Inaceptable\")\n",
    "elif (nivel == 0.4):\n",
    "    print (\"Aceptable\")\n",
    "    print (f\"Tu dinero recibido es de {cantidadObtenida}\")\n",
    "elif (nivel >=0.6):\n",
    "    print (\"Meritorio\")\n",
    "    print (f\"Tu dinero recibido es de {cantidadObtenida}\")\n",
    "else:\n",
    "    print (\"Nivel incorrecto\")"
   ]
  },
  {
   "cell_type": "markdown",
   "metadata": {},
   "source": [
    "### Ejercicio 8\n",
    "Escribir un programa para una empresa que tiene salas de juegos para todas las edades y quiere calcular de forma automática el precio que debe cobrar a sus clientes por entrar. El programa debe preguntar al usuario la edad del cliente y mostrar el precio de la entrada. Si el cliente es menor de 4 años puede entrar gratis, si tiene entre 4 y 18 años debe pagar $5 y si es mayor de 18 años, $10."
   ]
  },
  {
   "cell_type": "code",
   "execution_count": 27,
   "metadata": {},
   "outputs": [],
   "source": [
    "# Solución\n",
    "edad = int (input(\"que edad tienes ?\"))\n",
    "if (edad < 4):\n",
    "    print (\"tu entras gratis\")\n",
    "elif (edad >= 4 and edad <= 18):\n",
    "    print (\"La entrada cuesta $5 pesos\")\n",
    "else:\n",
    "    print (\"la entrada cuesta $10\")"
   ]
  },
  {
   "cell_type": "markdown",
   "metadata": {},
   "source": [
    "### Ejercicio 9\n",
    "La pizzería Planeta ofrece pizzas vegetarianas y no vegetarianas a sus clientes. Los ingredientes para cada tipo de pizza aparecen a continuación.  \n",
    "\n",
    "* Vegetarianos: Pimiento y tofu.  \n",
    "* No vegetarianos: Peperoni, Jamón y Salmón.  \n",
    "\n",
    "Escribir un programa que pregunte al usuario si quiere una pizza vegetariana o no, y en función de su respuesta le muestre un menú con los ingredientes disponibles para que elija. Solo se puede eligir un ingrediente además de la mozzarella y el tomate que están en todas la pizzas. Al final se debe mostrar por pantalla si la pizza elegida es vegetariana o no y todos los ingredientes que lleva.\n",
    "\n",
    "\n"
   ]
  },
  {
   "cell_type": "code",
   "execution_count": 28,
   "metadata": {},
   "outputs": [],
   "source": [
    "# Solución"
   ]
  }
 ],
 "metadata": {
  "kernelspec": {
   "display_name": "Python 3.10.5 64-bit (system)",
   "language": "python",
   "name": "python3"
  },
  "language_info": {
   "codemirror_mode": {
    "name": "ipython",
    "version": 3
   },
   "file_extension": ".py",
   "mimetype": "text/x-python",
   "name": "python",
   "nbconvert_exporter": "python",
   "pygments_lexer": "ipython3",
   "version": "3.10.5"
  },
  "orig_nbformat": 4,
  "vscode": {
   "interpreter": {
    "hash": "77abe205c72c096294b3a4a26264acecc5dbf8fb16ba6ed375b92e4d65784221"
   }
  }
 },
 "nbformat": 4,
 "nbformat_minor": 2
}
