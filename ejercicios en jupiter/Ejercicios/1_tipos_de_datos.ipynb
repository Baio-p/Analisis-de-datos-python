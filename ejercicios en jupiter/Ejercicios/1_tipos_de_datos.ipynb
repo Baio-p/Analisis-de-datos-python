{
 "cells": [
  {
   "cell_type": "markdown",
   "metadata": {},
   "source": [
    "# Ejercicios de Tipos de Datos Simples"
   ]
  },
  {
   "cell_type": "markdown",
   "metadata": {},
   "source": [
    "### Ejercicio 1\n",
    "Escribir un programa que muestre por pantalla la cadena <span style=\"color:#66D9EF\">¡Hola Mundo!</span>."
   ]
  },
  {
   "cell_type": "code",
   "execution_count": 1,
   "metadata": {},
   "outputs": [
    {
     "name": "stdout",
     "output_type": "stream",
     "text": [
      "¡Hola Mundo!\n"
     ]
    }
   ],
   "source": [
    "# Solución\n",
    "print(\"¡Hola Mundo!\")\n"
   ]
  },
  {
   "cell_type": "markdown",
   "metadata": {},
   "source": [
    "### Ejercicio 2\n",
    "Escribir un programa que almacene la cadena <span style=\"color:#66D9EF\">¡Hola Mundo!</span> en una variable y luego muestre por pantalla el contenido de la variable"
   ]
  },
  {
   "cell_type": "code",
   "execution_count": 3,
   "metadata": {},
   "outputs": [
    {
     "name": "stdout",
     "output_type": "stream",
     "text": [
      "¡Hola Mundo!\n"
     ]
    },
    {
     "data": {
      "text/plain": [
       "'¡Hola Mundo!'"
      ]
     },
     "execution_count": 3,
     "metadata": {},
     "output_type": "execute_result"
    }
   ],
   "source": [
    "# Solución\n",
    "saludo = \"¡Hola Mundo!\"\n",
    "print(saludo)\n",
    "saludo"
   ]
  },
  {
   "cell_type": "markdown",
   "metadata": {},
   "source": [
    "### Ejercicio 3\n",
    "Escribir un programa que pregunte el nombre del usuario en la consola y después de que el usuario lo introduzca muestre por pantalla la cadena <span style=\"color:#66D9EF \">¡Hola \\<nombre\\>!</span>, donde <span style=\"color:#66D9EF\">\\<nombre\\></span> es el nombre que el usuario haya introducido."
   ]
  },
  {
   "cell_type": "code",
   "execution_count": 8,
   "metadata": {},
   "outputs": [
    {
     "name": "stdout",
     "output_type": "stream",
     "text": [
      "¡Hola Benja!\n"
     ]
    }
   ],
   "source": [
    "# Solución\n",
    "nombre = input(\"ingresa tu nombre\")\n",
    "print(f\"¡Hola {nombre}!\")"
   ]
  },
  {
   "cell_type": "markdown",
   "metadata": {},
   "source": [
    "### Ejercicio 4\n",
    "Escribir un programa que muestre por pantalla el resultado de la siguiente operación aritmética:\n",
    "$$ \\left(\\frac{3+2}{2*5}\\right)^2$$"
   ]
  },
  {
   "cell_type": "code",
   "execution_count": 7,
   "metadata": {},
   "outputs": [
    {
     "name": "stdout",
     "output_type": "stream",
     "text": [
      "4.0\n"
     ]
    }
   ],
   "source": [
    "# solución\n",
    "resultado = (3+2 / 2*5)**2\n",
    "print(resultado)"
   ]
  },
  {
   "cell_type": "markdown",
   "metadata": {},
   "source": [
    "### Ejercicio 5\n",
    "Escribir un programa que pregunte al usuario por el número de horas trabajadas y el coste por hora. Después debe mostrar por pantalla la paga que le corresponde."
   ]
  },
  {
   "cell_type": "code",
   "execution_count": 16,
   "metadata": {},
   "outputs": [
    {
     "name": "stdout",
     "output_type": "stream",
     "text": [
      "759.0\n"
     ]
    }
   ],
   "source": [
    "# solución\n",
    "hT = int(input(\"¿cuantas horas trabajaste?\"))\n",
    "ph = float(input(\"¿cuanto vale la hora\"))\n",
    "salario = ph * hT\n",
    "print(salario)\n"
   ]
  },
  {
   "cell_type": "markdown",
   "metadata": {},
   "source": [
    "### Ejercicio 6\n",
    "Escribir un programa que lea un entero positivo, _n_, introducido por el usuario y después muestre en pantalla la suma de todos los enteros desde 1 hasta _n_ . La suma de los *n* primeros enteros positivos puede ser calculada de la siguiente forma:  \n",
    "$$suma = \\frac{n(n+1)}{2}$$"
   ]
  },
  {
   "cell_type": "code",
   "execution_count": 18,
   "metadata": {},
   "outputs": [
    {
     "name": "stdout",
     "output_type": "stream",
     "text": [
      "15.0\n"
     ]
    }
   ],
   "source": [
    "# solución\n",
    "n = int(input(\"ingresa un número\"))\n",
    "suma = ((n+1)*n)/2\n",
    "print(suma)"
   ]
  },
  {
   "cell_type": "markdown",
   "metadata": {},
   "source": [
    "### Ejercicio 7\n",
    "Escribir un programa que pida al usuario su peso (en kg) y estatura (en metros), calcule el índice de masa corporal y lo almacene en una variable, y muestre por pantalla la frase Tu índice de masa corporal es <span style=\"color:#66D9EF\">imc</span> donde <span style=\"color:#66D9EF\">imc</span> es el índice de masa corporal calculado redondeado con dos decimales. El indie de masa corporal (imc) se calcula a partir de tu estatura en metros al cuadrado\n",
    "entre tu peso en kilogramos."
   ]
  },
  {
   "cell_type": "code",
   "execution_count": 23,
   "metadata": {},
   "outputs": [
    {
     "name": "stdout",
     "output_type": "stream",
     "text": [
      "22.6643598615917\n"
     ]
    }
   ],
   "source": [
    "# solución\n",
    "peso = float(input(\"¿cuanto pesas?\"))\n",
    "estatura = float (input(\"¿cuanto mides representado en metros?\"))\n",
    "imc = (peso / (estatura**2))\n",
    "print (imc)"
   ]
  },
  {
   "cell_type": "markdown",
   "metadata": {},
   "source": [
    "### Ejercicio 8\n",
    "Escribir un programa que pida al usuario dos números enteros y muestre por pantalla la <span style=\"color:#66D9EF \">n</span> entre <span style=\"color:#66D9EF \">m</span> da un cociente <span style=\"color:#66D9EF \">c</span> y un resto <span style=\"color:#66D9EF \">r</span> donde <span style=\"color:#66D9EF \">n y m</span> son los números introducidos por el usuario, y <span style=\"color:#66D9EF \">c y r</span> son el cociente y el resto de la división entera respectivamente."
   ]
  },
  {
   "cell_type": "code",
   "execution_count": 24,
   "metadata": {},
   "outputs": [
    {
     "name": "stdout",
     "output_type": "stream",
     "text": [
      "el cociente es 4.0\n",
      "el residuo es 0\n"
     ]
    }
   ],
   "source": [
    "# solución\n",
    "n = int(input(\"ingresa un primer numero\"))\n",
    "m = int(input(\"ingresa un segundo numero\"))\n",
    "c =  n/m\n",
    "r = n%m\n",
    "print(f\"el cociente es {c}\")\n",
    "print(f\"el residuo es {r}\")"
   ]
  },
  {
   "cell_type": "markdown",
   "metadata": {},
   "source": [
    "### Ejercicio 9\n",
    "Escribir un programa que pregunte al usuario una cantidad a invertir, el interés anual y el número de años, y muestre por pantalla el capital obtenido en la inversión."
   ]
  },
  {
   "cell_type": "code",
   "execution_count": 31,
   "metadata": {},
   "outputs": [
    {
     "name": "stdout",
     "output_type": "stream",
     "text": [
      "8.16000000000001\n"
     ]
    }
   ],
   "source": [
    "# Solución\n",
    "cInv = float (input(\"¿cuanto quieres invertir?\"))\n",
    "inAnual = float (input (\"¿cual es el porcentaje de interes?\"))\n",
    "nAnios = int (input (\"cuantos años quieres mantener tu inversion?\"))\n",
    "inAnual = inAnual / 100\n",
    "monto = (cInv*((1+inAnual)**nAnios)) - cInv\n",
    "print(monto)"
   ]
  },
  {
   "cell_type": "markdown",
   "metadata": {},
   "source": [
    "### Ejercicio 10\n",
    "Una juguetería tiene mucho éxito en dos de sus productos: payasos y muñecas. Suele hacer venta por correo y la empresa de logística les cobra por peso de cada paquete así que deben calcular el peso de los payasos y muñecas que saldrán en cada paquete a demanda. Cada payaso pesa 112 g y cada muñeca 75 g. Escribir un programa que lea el número de payasos y muñecas vendidos en el último pedido y calcule el peso total del paquete que será enviado."
   ]
  },
  {
   "cell_type": "code",
   "execution_count": 1,
   "metadata": {},
   "outputs": [
    {
     "name": "stdout",
     "output_type": "stream",
     "text": [
      "El peso total del paquete es de 262\n"
     ]
    }
   ],
   "source": [
    "# Solución\n",
    "payaso = 112\n",
    "munieca = 75\n",
    "payasoEnv = int (input (\"¿cuantos payasos hay en el envio ?\"))\n",
    "muniecaEnv = int (input (\"¿cuantas muñecas hay en el envio ?\"))\n",
    "pesoEnv = (payaso * payasoEnv) + (munieca * muniecaEnv)\n",
    "print(f\"El peso total del paquete es de {pesoEnv}\")\n"
   ]
  },
  {
   "cell_type": "markdown",
   "metadata": {},
   "source": [
    "### Ejercicio 11\n",
    "Imagina que acabas de abrir una nueva cuenta de ahorros que te ofrece el 4% de interés al año. Estos ahorros se cobran hasta finales de año. Escribir un programa que comience leyendo la cantidad de dinero depositada en la cuenta de ahorros, introducida por el usuario. Después el programa debe calcular y mostrar por pantalla la cantidad de ahorros tras el primer, segundo y tercer años. Redondear cada cantidad a dos decimales."
   ]
  },
  {
   "cell_type": "code",
   "execution_count": null,
   "metadata": {},
   "outputs": [],
   "source": [
    "# Solución"
   ]
  },
  {
   "cell_type": "markdown",
   "metadata": {},
   "source": [
    "### Ejercicio 12\n",
    "Una panadería vende barras de pan a $3.49 cada una. El pan que no es el día tiene un descuento del 60%. Escribir un programa que comience leyendo el número de barras vendidas que no son del día. Después el programa debe mostrar el precio habitual de una barra de pan, el descuento que se le hace por no ser fresca y el coste final total."
   ]
  },
  {
   "cell_type": "code",
   "execution_count": null,
   "metadata": {},
   "outputs": [],
   "source": [
    "# Solución"
   ]
  }
 ],
 "metadata": {
  "kernelspec": {
   "display_name": "Python 3.10.8 64-bit",
   "language": "python",
   "name": "python3"
  },
  "language_info": {
   "codemirror_mode": {
    "name": "ipython",
    "version": 3
   },
   "file_extension": ".py",
   "mimetype": "text/x-python",
   "name": "python",
   "nbconvert_exporter": "python",
   "pygments_lexer": "ipython3",
   "version": "3.10.8"
  },
  "orig_nbformat": 4,
  "vscode": {
   "interpreter": {
    "hash": "c8c5edb139fa327e893efec27bfd6be6c4803183cde0707c579081d76e7b0ac1"
   }
  }
 },
 "nbformat": 4,
 "nbformat_minor": 2
}
